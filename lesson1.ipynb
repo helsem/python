{
 "cells": [
  {
   "cell_type": "code",
   "execution_count": 1,
   "id": "2a652e73",
   "metadata": {},
   "outputs": [],
   "source": [
    "  %notebook \"directory/to/file/filename.ipynb\"  "
   ]
  },
  {
   "cell_type": "code",
   "execution_count": 2,
   "id": "aa6d2c2f",
   "metadata": {},
   "outputs": [],
   "source": [
    "  %notebook \"directory/to/file/filename.ipynb "
   ]
  },
  {
   "cell_type": "code",
   "execution_count": 3,
   "id": "64e688c5",
   "metadata": {},
   "outputs": [],
   "source": [
    "  %notebook "
   ]
  },
  {
   "cell_type": "code",
   "execution_count": 4,
   "id": "b3c0f245",
   "metadata": {},
   "outputs": [],
   "source": [
    "%% writefile "
   ]
  },
  {
   "cell_type": "code",
   "execution_count": 5,
   "id": "3f208b76",
   "metadata": {},
   "outputs": [],
   "source": [
    "writefile "
   ]
  },
  {
   "cell_type": "code",
   "execution_count": 6,
   "id": "031c17ce",
   "metadata": {},
   "outputs": [],
   "source": [
    "%%writefile "
   ]
  },
  {
   "cell_type": "code",
   "execution_count": 7,
   "id": "35c22463",
   "metadata": {},
   "outputs": [],
   "source": [
    "%%writefile "
   ]
  },
  {
   "cell_type": "code",
   "execution_count": 8,
   "id": "746f74ed",
   "metadata": {},
   "outputs": [],
   "source": [
    "%notebook \"C:\\Users\\Александр\\Desktop\\мама учеба\\lesson1.ipynb\" "
   ]
  }
 ],
 "metadata": {},
 "nbformat": 4,
 "nbformat_minor": 5
}
